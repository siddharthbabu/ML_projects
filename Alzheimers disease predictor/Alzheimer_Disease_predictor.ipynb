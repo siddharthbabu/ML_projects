{
 "cells": [
  {
   "cell_type": "markdown",
   "id": "d8d1709c",
   "metadata": {},
   "source": [
    "## Data preperation and cleaning"
   ]
  },
  {
   "cell_type": "code",
   "execution_count": 3,
   "id": "7076a477",
   "metadata": {},
   "outputs": [],
   "source": [
    "import os\n",
    "import cv2 \n",
    "import itertools\n",
    "import numpy as np \n",
    "import pandas as pd \n",
    "\n",
    "test_dir = \"../Alzheimers disease predictor/test/\"\n",
    "train_dir = \"../Alzheimers disease predictor/train/\"\n",
    "\n",
    "data = []\n",
    "     "
   ]
  },
  {
   "cell_type": "code",
   "execution_count": 4,
   "id": "bfab77e1",
   "metadata": {},
   "outputs": [
    {
     "name": "stdout",
     "output_type": "stream",
     "text": [
      "MildDemented\n",
      "ModerateDemented\n",
      "NonDemented\n",
      "VeryMildDemented\n"
     ]
    }
   ],
   "source": [
    "for dirtrain in os.listdir(train_dir): \n",
    "    print(dirtrain)\n",
    "    for tr in os.listdir(train_dir + dirtrain):\n",
    "        img = cv2.imread(train_dir + dirtrain + \"/\" + tr)\n",
    "        img = cv2.resize(img, (32, 32))\n",
    "        img = cv2.cvtColor(img, cv2.COLOR_BGR2GRAY)\n",
    "        img = img.reshape(32, 32, 1)\n",
    "        \n",
    "        data.append([img, dirtrain]) "
   ]
  },
  {
   "cell_type": "code",
   "execution_count": 5,
   "id": "43ed4db0",
   "metadata": {},
   "outputs": [
    {
     "name": "stdout",
     "output_type": "stream",
     "text": [
      "MildDemented\n",
      "ModerateDemented\n",
      "NonDemented\n",
      "VeryMildDemented\n"
     ]
    }
   ],
   "source": [
    "for dirtest in  os.listdir(test_dir):    \n",
    "    print(dirtest)\n",
    "    for ts in os.listdir(test_dir + dirtest):\n",
    "        img = cv2.imread(test_dir + dirtest + \"/\" + ts)\n",
    "        img = cv2.resize(img, (32, 32))\n",
    "        img = cv2.cvtColor(img, cv2.COLOR_BGR2GRAY)\n",
    "        img = img.reshape(32, 32, 1)\n",
    "        \n",
    "        data.append([img, dirtest])"
   ]
  },
  {
   "cell_type": "markdown",
   "id": "0259f24b",
   "metadata": {},
   "source": [
    "#### In each iteration we:\n",
    "</br>\n",
    "-read image </br>\n",
    "-resize the image to matrix of 32x32</br>\n",
    "-grayscaling image</br>\n",
    "-reshape the image to 3D with one color channel (Gray)</br>\n",
    "-append each image with label to the data list</br>"
   ]
  },
  {
   "cell_type": "code",
   "execution_count": 6,
   "id": "06cd2c48",
   "metadata": {},
   "outputs": [],
   "source": [
    "import random\n",
    "random.seed(20)"
   ]
  },
  {
   "cell_type": "code",
   "execution_count": 7,
   "id": "82f99274",
   "metadata": {},
   "outputs": [],
   "source": [
    "random.shuffle(data)"
   ]
  },
  {
   "cell_type": "code",
   "execution_count": 8,
   "id": "01ef2a2c",
   "metadata": {},
   "outputs": [],
   "source": [
    "x, y = [], []\n",
    "for e in data:\n",
    "    x.append(e[0])\n",
    "    y.append(e[1])"
   ]
  },
  {
   "cell_type": "code",
   "execution_count": 9,
   "id": "b2222c4a",
   "metadata": {},
   "outputs": [],
   "source": [
    "from sklearn.preprocessing import OneHotEncoder"
   ]
  },
  {
   "cell_type": "code",
   "execution_count": 10,
   "id": "aac6b94f",
   "metadata": {},
   "outputs": [
    {
     "name": "stdout",
     "output_type": "stream",
     "text": [
      "[array(['MildDemented', 'ModerateDemented', 'NonDemented',\n",
      "       'VeryMildDemented'], dtype='<U16')]\n",
      "Data   :   (6400, 32, 32, 1)\n",
      "Labels :   (6400, 4)\n"
     ]
    }
   ],
   "source": [
    "x = np.array(x)\n",
    "y = np.array(y)\n",
    "y = y.reshape(y.shape[0],1)\n",
    "enc = OneHotEncoder(handle_unknown='ignore').fit(y)\n",
    "print(enc.categories_)\n",
    "y = enc.transform(y).toarray()\n",
    "print(f'Data   :   {str(x.shape)}')\n",
    "print(f'Labels :   {str(y.shape)}')"
   ]
  },
  {
   "cell_type": "code",
   "execution_count": 11,
   "id": "e1149abb",
   "metadata": {},
   "outputs": [],
   "source": [
    "from sklearn.model_selection import train_test_split\n",
    "#We then split the data into training and validation sets. We use 80% of the data for training and 20% for validation.\n",
    "x_train, x_test, y_train, y_test = train_test_split(x, y, random_state=1, test_size=0.2)"
   ]
  },
  {
   "cell_type": "code",
   "execution_count": 13,
   "id": "696f5f92",
   "metadata": {},
   "outputs": [],
   "source": [
    "import tensorflow as tf"
   ]
  },
  {
   "cell_type": "markdown",
   "id": "47784471",
   "metadata": {},
   "source": [
    "## Building the model"
   ]
  },
  {
   "cell_type": "code",
   "execution_count": 14,
   "id": "ab810deb",
   "metadata": {},
   "outputs": [],
   "source": [
    "from tensorflow import keras\n",
    "from tensorflow.keras import Sequential\n",
    "from tensorflow.keras.layers import Dense,Conv2D,MaxPooling2D,Flatten,Dropout, BatchNormalization\n",
    "from tensorflow.keras.preprocessing.image import ImageDataGenerator\n",
    "\n",
    "\n",
    "model = tf.keras.Sequential([\n",
    "    tf.keras.layers.Conv2D(64, (4, 4), padding='same', activation=tf.nn.relu, \n",
    "    input_shape=(32, 32, 1)),\n",
    "    tf.keras.layers.MaxPooling2D((2, 2), strides=(2,2)), Dropout(0.25),\n",
    "    \n",
    "    tf.keras.layers.Conv2D(128, (3,3), padding='same', activation=tf.nn.relu),\n",
    "    tf.keras.layers.MaxPooling2D((2, 2), strides=(2,2)),\n",
    "    Dropout(0.25),\n",
    "\n",
    "    tf.keras.layers.Conv2D(128, (3,3), padding='same', activation=tf.nn.relu),\n",
    "    tf.keras.layers.MaxPooling2D((2, 2), strides=(2,2)),\n",
    "    Dropout(0.3),\n",
    "\n",
    "    tf.keras.layers.Conv2D(128, (2,2), padding='same', activation=tf.nn.relu),\n",
    "    tf.keras.layers.MaxPooling2D((2, 2), strides=(2,2)),\n",
    "    Dropout(0.3),\n",
    "\n",
    "    tf.keras.layers.Conv2D(256, (2,2), padding='same', activation=tf.nn.relu),\n",
    "    tf.keras.layers.MaxPooling2D((2, 2), strides=(2,2)),\n",
    "    Dropout(0.3),\n",
    "                    \n",
    "    tf.keras.layers.Flatten(),\n",
    "    tf.keras.layers.Dense(128, activation=tf.nn.relu),\n",
    "    tf.keras.layers.Dense(4,  activation=tf.nn.softmax)\n",
    "])"
   ]
  },
  {
   "cell_type": "code",
   "execution_count": 16,
   "id": "49f081a0",
   "metadata": {},
   "outputs": [
    {
     "name": "stdout",
     "output_type": "stream",
     "text": [
      "Model: \"sequential\"\n",
      "_________________________________________________________________\n",
      " Layer (type)                Output Shape              Param #   \n",
      "=================================================================\n",
      " conv2d (Conv2D)             (None, 32, 32, 64)        1088      \n",
      "                                                                 \n",
      " max_pooling2d (MaxPooling2D  (None, 16, 16, 64)       0         \n",
      " )                                                               \n",
      "                                                                 \n",
      " dropout (Dropout)           (None, 16, 16, 64)        0         \n",
      "                                                                 \n",
      " conv2d_1 (Conv2D)           (None, 16, 16, 128)       73856     \n",
      "                                                                 \n",
      " max_pooling2d_1 (MaxPooling  (None, 8, 8, 128)        0         \n",
      " 2D)                                                             \n",
      "                                                                 \n",
      " dropout_1 (Dropout)         (None, 8, 8, 128)         0         \n",
      "                                                                 \n",
      " conv2d_2 (Conv2D)           (None, 8, 8, 128)         147584    \n",
      "                                                                 \n",
      " max_pooling2d_2 (MaxPooling  (None, 4, 4, 128)        0         \n",
      " 2D)                                                             \n",
      "                                                                 \n",
      " dropout_2 (Dropout)         (None, 4, 4, 128)         0         \n",
      "                                                                 \n",
      " conv2d_3 (Conv2D)           (None, 4, 4, 128)         65664     \n",
      "                                                                 \n",
      " max_pooling2d_3 (MaxPooling  (None, 2, 2, 128)        0         \n",
      " 2D)                                                             \n",
      "                                                                 \n",
      " dropout_3 (Dropout)         (None, 2, 2, 128)         0         \n",
      "                                                                 \n",
      " conv2d_4 (Conv2D)           (None, 2, 2, 256)         131328    \n",
      "                                                                 \n",
      " max_pooling2d_4 (MaxPooling  (None, 1, 1, 256)        0         \n",
      " 2D)                                                             \n",
      "                                                                 \n",
      " dropout_4 (Dropout)         (None, 1, 1, 256)         0         \n",
      "                                                                 \n",
      " flatten (Flatten)           (None, 256)               0         \n",
      "                                                                 \n",
      " dense (Dense)               (None, 128)               32896     \n",
      "                                                                 \n",
      " dense_1 (Dense)             (None, 4)                 516       \n",
      "                                                                 \n",
      "=================================================================\n",
      "Total params: 452,932\n",
      "Trainable params: 452,932\n",
      "Non-trainable params: 0\n",
      "_________________________________________________________________\n"
     ]
    }
   ],
   "source": [
    "#model summary\n",
    "model.summary()"
   ]
  },
  {
   "cell_type": "code",
   "execution_count": 18,
   "id": "258b564f",
   "metadata": {},
   "outputs": [
    {
     "name": "stdout",
     "output_type": "stream",
     "text": [
      "Collecting pydot\n",
      "  Downloading pydot-2.0.0-py3-none-any.whl.metadata (9.6 kB)\n",
      "Requirement already satisfied: pyparsing>=3 in c:\\users\\suribabu\\anaconda3\\lib\\site-packages (from pydot) (3.0.4)\n",
      "Downloading pydot-2.0.0-py3-none-any.whl (22 kB)\n",
      "Installing collected packages: pydot\n",
      "Successfully installed pydot-2.0.0\n",
      "Note: you may need to restart the kernel to use updated packages.\n"
     ]
    },
    {
     "name": "stderr",
     "output_type": "stream",
     "text": [
      "DEPRECATION: pyodbc 4.0.0-unsupported has a non-standard version number. pip 24.0 will enforce this behaviour change. A possible replacement is to upgrade to a newer version of pyodbc or contact the author to suggest that they release a version with a conforming version number. Discussion can be found at https://github.com/pypa/pip/issues/12063\n",
      "\n",
      "[notice] A new release of pip is available: 23.3.1 -> 24.0\n",
      "[notice] To update, run: python.exe -m pip install --upgrade pip\n"
     ]
    }
   ],
   "source": [
    "pip install pydot"
   ]
  },
  {
   "cell_type": "code",
   "execution_count": 17,
   "id": "37ec18ce",
   "metadata": {},
   "outputs": [
    {
     "name": "stdout",
     "output_type": "stream",
     "text": [
      "You must install pydot (`pip install pydot`) and install graphviz (see instructions at https://graphviz.gitlab.io/download/) for plot_model to work.\n"
     ]
    }
   ],
   "source": [
    "#plotting the model so we can see layers and number of parameters in every layer\n",
    "\n",
    "tf.keras.utils.plot_model(\n",
    "    model,\n",
    "    to_file=\"model.png\",\n",
    "    show_shapes=True,\n",
    "    show_layer_names=True,\n",
    "    rankdir=\"TB\",\n",
    "    expand_nested=True,\n",
    "    dpi=96,\n",
    ")"
   ]
  },
  {
   "cell_type": "markdown",
   "id": "9af75527",
   "metadata": {},
   "source": [
    "## training the model "
   ]
  },
  {
   "cell_type": "code",
   "execution_count": 19,
   "id": "65e9600e",
   "metadata": {},
   "outputs": [
    {
     "name": "stdout",
     "output_type": "stream",
     "text": [
      "Epoch 1/100\n",
      "64/64 [==============================] - 13s 184ms/step - loss: 2.1822 - accuracy: 0.4539 - val_loss: 1.1453 - val_accuracy: 0.5137\n",
      "Epoch 2/100\n",
      "64/64 [==============================] - 12s 180ms/step - loss: 1.0504 - accuracy: 0.4858 - val_loss: 1.1419 - val_accuracy: 0.5303\n",
      "Epoch 3/100\n",
      "64/64 [==============================] - 12s 183ms/step - loss: 1.0212 - accuracy: 0.4902 - val_loss: 1.0063 - val_accuracy: 0.5625\n",
      "Epoch 4/100\n",
      "64/64 [==============================] - 12s 187ms/step - loss: 0.9885 - accuracy: 0.5122 - val_loss: 1.0754 - val_accuracy: 0.5615\n",
      "Epoch 5/100\n",
      "64/64 [==============================] - 11s 177ms/step - loss: 0.9737 - accuracy: 0.5164 - val_loss: 0.9621 - val_accuracy: 0.5879\n",
      "Epoch 6/100\n",
      "64/64 [==============================] - 11s 178ms/step - loss: 0.9540 - accuracy: 0.5261 - val_loss: 1.0077 - val_accuracy: 0.5479\n",
      "Epoch 7/100\n",
      "64/64 [==============================] - 12s 182ms/step - loss: 0.9622 - accuracy: 0.5200 - val_loss: 0.8949 - val_accuracy: 0.5869\n",
      "Epoch 8/100\n",
      "64/64 [==============================] - 12s 181ms/step - loss: 0.9566 - accuracy: 0.5295 - val_loss: 0.9096 - val_accuracy: 0.6016\n",
      "Epoch 9/100\n",
      "64/64 [==============================] - 12s 181ms/step - loss: 0.9448 - accuracy: 0.5388 - val_loss: 0.9172 - val_accuracy: 0.5986\n",
      "Epoch 10/100\n",
      "64/64 [==============================] - 12s 184ms/step - loss: 0.9515 - accuracy: 0.5305 - val_loss: 0.9479 - val_accuracy: 0.5791\n",
      "Epoch 11/100\n",
      "64/64 [==============================] - 11s 175ms/step - loss: 0.9532 - accuracy: 0.5393 - val_loss: 0.9194 - val_accuracy: 0.6035\n",
      "Epoch 12/100\n",
      "64/64 [==============================] - 11s 178ms/step - loss: 0.9291 - accuracy: 0.5444 - val_loss: 0.9378 - val_accuracy: 0.5869\n",
      "Epoch 13/100\n",
      "64/64 [==============================] - 12s 184ms/step - loss: 0.9252 - accuracy: 0.5479 - val_loss: 0.8675 - val_accuracy: 0.5947\n",
      "Epoch 14/100\n",
      "64/64 [==============================] - 12s 193ms/step - loss: 0.9135 - accuracy: 0.5581 - val_loss: 0.8563 - val_accuracy: 0.5879\n",
      "Epoch 15/100\n",
      "64/64 [==============================] - 12s 182ms/step - loss: 0.9308 - accuracy: 0.5442 - val_loss: 0.8719 - val_accuracy: 0.6035\n",
      "Epoch 16/100\n",
      "64/64 [==============================] - 11s 176ms/step - loss: 0.9120 - accuracy: 0.5576 - val_loss: 0.8632 - val_accuracy: 0.5938\n",
      "Epoch 17/100\n",
      "64/64 [==============================] - 11s 170ms/step - loss: 0.9117 - accuracy: 0.5562 - val_loss: 0.8462 - val_accuracy: 0.5977\n",
      "Epoch 18/100\n",
      "64/64 [==============================] - 11s 175ms/step - loss: 0.9019 - accuracy: 0.5674 - val_loss: 0.9233 - val_accuracy: 0.5820\n",
      "Epoch 19/100\n",
      "64/64 [==============================] - 11s 180ms/step - loss: 0.9015 - accuracy: 0.5671 - val_loss: 0.8547 - val_accuracy: 0.6094\n",
      "Epoch 20/100\n",
      "64/64 [==============================] - 11s 172ms/step - loss: 0.8849 - accuracy: 0.5605 - val_loss: 0.8229 - val_accuracy: 0.6045\n",
      "Epoch 21/100\n",
      "64/64 [==============================] - 11s 173ms/step - loss: 0.8876 - accuracy: 0.5723 - val_loss: 0.8858 - val_accuracy: 0.6133\n",
      "Epoch 22/100\n",
      "64/64 [==============================] - 11s 176ms/step - loss: 0.8651 - accuracy: 0.5808 - val_loss: 0.8976 - val_accuracy: 0.5723\n",
      "Epoch 23/100\n",
      "64/64 [==============================] - 11s 174ms/step - loss: 0.8676 - accuracy: 0.5789 - val_loss: 0.7972 - val_accuracy: 0.6162\n",
      "Epoch 24/100\n",
      "64/64 [==============================] - 11s 176ms/step - loss: 0.8495 - accuracy: 0.5918 - val_loss: 0.8337 - val_accuracy: 0.6279\n",
      "Epoch 25/100\n",
      "64/64 [==============================] - 12s 180ms/step - loss: 0.8435 - accuracy: 0.5901 - val_loss: 0.8030 - val_accuracy: 0.6309\n",
      "Epoch 26/100\n",
      "64/64 [==============================] - 11s 173ms/step - loss: 0.8255 - accuracy: 0.6084 - val_loss: 0.9075 - val_accuracy: 0.5869\n",
      "Epoch 27/100\n",
      "64/64 [==============================] - 11s 176ms/step - loss: 0.8277 - accuracy: 0.6084 - val_loss: 0.7627 - val_accuracy: 0.6396\n",
      "Epoch 28/100\n",
      "64/64 [==============================] - 11s 179ms/step - loss: 0.8224 - accuracy: 0.6033 - val_loss: 0.7442 - val_accuracy: 0.6602\n",
      "Epoch 29/100\n",
      "64/64 [==============================] - 11s 179ms/step - loss: 0.8109 - accuracy: 0.6111 - val_loss: 0.7438 - val_accuracy: 0.6689\n",
      "Epoch 30/100\n",
      "64/64 [==============================] - 12s 188ms/step - loss: 0.7878 - accuracy: 0.6230 - val_loss: 0.7207 - val_accuracy: 0.6719\n",
      "Epoch 31/100\n",
      "64/64 [==============================] - 12s 189ms/step - loss: 0.7822 - accuracy: 0.6372 - val_loss: 0.7623 - val_accuracy: 0.6445\n",
      "Epoch 32/100\n",
      "64/64 [==============================] - 12s 180ms/step - loss: 0.7797 - accuracy: 0.6357 - val_loss: 0.8418 - val_accuracy: 0.6328\n",
      "Epoch 33/100\n",
      "64/64 [==============================] - 12s 182ms/step - loss: 0.7631 - accuracy: 0.6404 - val_loss: 0.6937 - val_accuracy: 0.6641\n",
      "Epoch 34/100\n",
      "64/64 [==============================] - 12s 185ms/step - loss: 0.7482 - accuracy: 0.6555 - val_loss: 0.6909 - val_accuracy: 0.6846\n",
      "Epoch 35/100\n",
      "64/64 [==============================] - 12s 185ms/step - loss: 0.7310 - accuracy: 0.6562 - val_loss: 0.7071 - val_accuracy: 0.6855\n",
      "Epoch 36/100\n",
      "64/64 [==============================] - 12s 186ms/step - loss: 0.7265 - accuracy: 0.6709 - val_loss: 0.6352 - val_accuracy: 0.7373\n",
      "Epoch 37/100\n",
      "64/64 [==============================] - 12s 183ms/step - loss: 0.7123 - accuracy: 0.6736 - val_loss: 0.6558 - val_accuracy: 0.7080\n",
      "Epoch 38/100\n",
      "64/64 [==============================] - 11s 179ms/step - loss: 0.6972 - accuracy: 0.6816 - val_loss: 0.7201 - val_accuracy: 0.7021\n",
      "Epoch 39/100\n",
      "64/64 [==============================] - 12s 179ms/step - loss: 0.6896 - accuracy: 0.6809 - val_loss: 0.5948 - val_accuracy: 0.7354\n",
      "Epoch 40/100\n",
      "64/64 [==============================] - 12s 183ms/step - loss: 0.6678 - accuracy: 0.6978 - val_loss: 0.6254 - val_accuracy: 0.7178\n",
      "Epoch 41/100\n",
      "64/64 [==============================] - 12s 188ms/step - loss: 0.6548 - accuracy: 0.7007 - val_loss: 0.5900 - val_accuracy: 0.7363\n",
      "Epoch 42/100\n",
      "64/64 [==============================] - 12s 181ms/step - loss: 0.6394 - accuracy: 0.7205 - val_loss: 0.5730 - val_accuracy: 0.7686\n",
      "Epoch 43/100\n",
      "64/64 [==============================] - 12s 189ms/step - loss: 0.6137 - accuracy: 0.7314 - val_loss: 0.5381 - val_accuracy: 0.7480\n",
      "Epoch 44/100\n",
      "64/64 [==============================] - 12s 188ms/step - loss: 0.6212 - accuracy: 0.7263 - val_loss: 0.5241 - val_accuracy: 0.7705\n",
      "Epoch 45/100\n",
      "64/64 [==============================] - 12s 184ms/step - loss: 0.5972 - accuracy: 0.7410 - val_loss: 0.5464 - val_accuracy: 0.7676\n",
      "Epoch 46/100\n",
      "64/64 [==============================] - 12s 183ms/step - loss: 0.5755 - accuracy: 0.7625 - val_loss: 0.5148 - val_accuracy: 0.8037\n",
      "Epoch 47/100\n",
      "64/64 [==============================] - 11s 179ms/step - loss: 0.5614 - accuracy: 0.7590 - val_loss: 0.5025 - val_accuracy: 0.7871\n",
      "Epoch 48/100\n",
      "64/64 [==============================] - 12s 182ms/step - loss: 0.5499 - accuracy: 0.7673 - val_loss: 0.4652 - val_accuracy: 0.8145\n",
      "Epoch 49/100\n",
      "64/64 [==============================] - 12s 184ms/step - loss: 0.5386 - accuracy: 0.7729 - val_loss: 0.4816 - val_accuracy: 0.7891\n",
      "Epoch 50/100\n",
      "64/64 [==============================] - 12s 182ms/step - loss: 0.5165 - accuracy: 0.7830 - val_loss: 0.4329 - val_accuracy: 0.8281\n",
      "Epoch 51/100\n",
      "64/64 [==============================] - 12s 181ms/step - loss: 0.5193 - accuracy: 0.7791 - val_loss: 0.4509 - val_accuracy: 0.8057\n",
      "Epoch 52/100\n",
      "64/64 [==============================] - 12s 182ms/step - loss: 0.4990 - accuracy: 0.7964 - val_loss: 0.5240 - val_accuracy: 0.7773\n",
      "Epoch 53/100\n",
      "64/64 [==============================] - 12s 185ms/step - loss: 0.4945 - accuracy: 0.7915 - val_loss: 0.4593 - val_accuracy: 0.8066\n",
      "Epoch 54/100\n",
      "64/64 [==============================] - 12s 181ms/step - loss: 0.4606 - accuracy: 0.8164 - val_loss: 0.3997 - val_accuracy: 0.8555\n",
      "Epoch 55/100\n",
      "64/64 [==============================] - 12s 182ms/step - loss: 0.4612 - accuracy: 0.8054 - val_loss: 0.4398 - val_accuracy: 0.8193\n",
      "Epoch 56/100\n",
      "64/64 [==============================] - 12s 183ms/step - loss: 0.4348 - accuracy: 0.8213 - val_loss: 0.3867 - val_accuracy: 0.8428\n",
      "Epoch 57/100\n"
     ]
    },
    {
     "name": "stdout",
     "output_type": "stream",
     "text": [
      "64/64 [==============================] - 12s 183ms/step - loss: 0.4385 - accuracy: 0.8225 - val_loss: 0.3794 - val_accuracy: 0.8438\n",
      "Epoch 58/100\n",
      "64/64 [==============================] - 12s 187ms/step - loss: 0.4094 - accuracy: 0.8279 - val_loss: 0.4056 - val_accuracy: 0.8330\n",
      "Epoch 59/100\n",
      "64/64 [==============================] - 12s 183ms/step - loss: 0.4250 - accuracy: 0.8269 - val_loss: 0.3773 - val_accuracy: 0.8418\n",
      "Epoch 60/100\n",
      "64/64 [==============================] - 12s 183ms/step - loss: 0.3908 - accuracy: 0.8438 - val_loss: 0.4031 - val_accuracy: 0.8398\n",
      "Epoch 61/100\n",
      "64/64 [==============================] - 12s 186ms/step - loss: 0.3920 - accuracy: 0.8430 - val_loss: 0.3312 - val_accuracy: 0.8662\n",
      "Epoch 62/100\n",
      "64/64 [==============================] - 12s 183ms/step - loss: 0.3807 - accuracy: 0.8450 - val_loss: 0.3361 - val_accuracy: 0.8623\n",
      "Epoch 63/100\n",
      "64/64 [==============================] - 12s 185ms/step - loss: 0.3620 - accuracy: 0.8594 - val_loss: 0.3542 - val_accuracy: 0.8672\n",
      "Epoch 64/100\n",
      "64/64 [==============================] - 12s 191ms/step - loss: 0.3699 - accuracy: 0.8484 - val_loss: 0.2988 - val_accuracy: 0.8799\n",
      "Epoch 65/100\n",
      "64/64 [==============================] - 12s 180ms/step - loss: 0.3504 - accuracy: 0.8604 - val_loss: 0.3379 - val_accuracy: 0.8662\n",
      "Epoch 66/100\n",
      "64/64 [==============================] - 12s 186ms/step - loss: 0.3387 - accuracy: 0.8630 - val_loss: 0.3018 - val_accuracy: 0.8828\n",
      "Epoch 67/100\n",
      "64/64 [==============================] - 12s 188ms/step - loss: 0.3351 - accuracy: 0.8655 - val_loss: 0.3540 - val_accuracy: 0.8682\n",
      "Epoch 68/100\n",
      "64/64 [==============================] - 12s 189ms/step - loss: 0.3299 - accuracy: 0.8801 - val_loss: 0.3029 - val_accuracy: 0.8770\n",
      "Epoch 69/100\n",
      "64/64 [==============================] - 12s 186ms/step - loss: 0.3234 - accuracy: 0.8728 - val_loss: 0.3025 - val_accuracy: 0.8916\n",
      "Epoch 70/100\n",
      "64/64 [==============================] - 12s 184ms/step - loss: 0.3168 - accuracy: 0.8792 - val_loss: 0.2664 - val_accuracy: 0.8965\n",
      "Epoch 71/100\n",
      "64/64 [==============================] - 12s 182ms/step - loss: 0.2881 - accuracy: 0.8882 - val_loss: 0.2952 - val_accuracy: 0.8887\n",
      "Epoch 72/100\n",
      "64/64 [==============================] - 11s 173ms/step - loss: 0.2827 - accuracy: 0.8933 - val_loss: 0.2795 - val_accuracy: 0.9023\n",
      "Epoch 73/100\n",
      "64/64 [==============================] - 11s 171ms/step - loss: 0.2620 - accuracy: 0.8958 - val_loss: 0.2500 - val_accuracy: 0.9072\n",
      "Epoch 74/100\n",
      "64/64 [==============================] - 11s 172ms/step - loss: 0.3078 - accuracy: 0.8821 - val_loss: 0.2434 - val_accuracy: 0.9150\n",
      "Epoch 75/100\n",
      "64/64 [==============================] - 11s 171ms/step - loss: 0.2736 - accuracy: 0.8926 - val_loss: 0.2661 - val_accuracy: 0.8877\n",
      "Epoch 76/100\n",
      "64/64 [==============================] - 11s 179ms/step - loss: 0.2564 - accuracy: 0.9014 - val_loss: 0.2320 - val_accuracy: 0.9082\n",
      "Epoch 77/100\n",
      "64/64 [==============================] - 11s 178ms/step - loss: 0.2607 - accuracy: 0.9043 - val_loss: 0.2688 - val_accuracy: 0.8916\n",
      "Epoch 78/100\n",
      "64/64 [==============================] - 12s 181ms/step - loss: 0.2530 - accuracy: 0.9021 - val_loss: 0.2977 - val_accuracy: 0.8896\n",
      "Epoch 79/100\n",
      "64/64 [==============================] - 11s 178ms/step - loss: 0.2421 - accuracy: 0.9055 - val_loss: 0.2178 - val_accuracy: 0.9160\n",
      "Epoch 80/100\n",
      "64/64 [==============================] - 11s 179ms/step - loss: 0.2459 - accuracy: 0.9070 - val_loss: 0.2453 - val_accuracy: 0.9102\n",
      "Epoch 81/100\n",
      "64/64 [==============================] - 11s 180ms/step - loss: 0.2489 - accuracy: 0.9038 - val_loss: 0.2188 - val_accuracy: 0.9189\n",
      "Epoch 82/100\n",
      "64/64 [==============================] - 11s 180ms/step - loss: 0.2272 - accuracy: 0.9124 - val_loss: 0.2355 - val_accuracy: 0.9072\n",
      "Epoch 83/100\n",
      "64/64 [==============================] - 12s 182ms/step - loss: 0.2314 - accuracy: 0.9187 - val_loss: 0.2705 - val_accuracy: 0.8945\n",
      "Epoch 84/100\n",
      "64/64 [==============================] - 11s 178ms/step - loss: 0.2284 - accuracy: 0.9131 - val_loss: 0.1995 - val_accuracy: 0.9189\n",
      "Epoch 85/100\n",
      "64/64 [==============================] - 11s 178ms/step - loss: 0.1970 - accuracy: 0.9285 - val_loss: 0.2147 - val_accuracy: 0.9111\n",
      "Epoch 86/100\n",
      "64/64 [==============================] - 12s 183ms/step - loss: 0.2192 - accuracy: 0.9192 - val_loss: 0.2058 - val_accuracy: 0.9170\n",
      "Epoch 87/100\n",
      "64/64 [==============================] - 11s 177ms/step - loss: 0.2224 - accuracy: 0.9211 - val_loss: 0.2206 - val_accuracy: 0.9141\n",
      "Epoch 88/100\n",
      "64/64 [==============================] - 11s 176ms/step - loss: 0.1992 - accuracy: 0.9292 - val_loss: 0.2031 - val_accuracy: 0.9141\n",
      "Epoch 89/100\n",
      "64/64 [==============================] - 11s 178ms/step - loss: 0.2142 - accuracy: 0.9189 - val_loss: 0.2282 - val_accuracy: 0.9160\n",
      "Epoch 90/100\n",
      "64/64 [==============================] - 11s 175ms/step - loss: 0.2050 - accuracy: 0.9241 - val_loss: 0.1866 - val_accuracy: 0.9316\n",
      "Epoch 91/100\n",
      "64/64 [==============================] - 11s 175ms/step - loss: 0.1901 - accuracy: 0.9324 - val_loss: 0.2296 - val_accuracy: 0.9150\n",
      "Epoch 92/100\n",
      "64/64 [==============================] - 11s 175ms/step - loss: 0.1780 - accuracy: 0.9316 - val_loss: 0.1922 - val_accuracy: 0.9336\n",
      "Epoch 93/100\n",
      "64/64 [==============================] - 11s 180ms/step - loss: 0.1806 - accuracy: 0.9316 - val_loss: 0.1911 - val_accuracy: 0.9268\n",
      "Epoch 94/100\n",
      "64/64 [==============================] - 11s 178ms/step - loss: 0.1779 - accuracy: 0.9377 - val_loss: 0.2076 - val_accuracy: 0.9199\n",
      "Epoch 95/100\n",
      "64/64 [==============================] - 11s 177ms/step - loss: 0.1946 - accuracy: 0.9270 - val_loss: 0.1624 - val_accuracy: 0.9463\n",
      "Epoch 96/100\n",
      "64/64 [==============================] - 11s 177ms/step - loss: 0.1739 - accuracy: 0.9380 - val_loss: 0.1850 - val_accuracy: 0.9346\n",
      "Epoch 97/100\n",
      "64/64 [==============================] - 11s 179ms/step - loss: 0.1736 - accuracy: 0.9370 - val_loss: 0.1883 - val_accuracy: 0.9307\n",
      "Epoch 98/100\n",
      "64/64 [==============================] - 11s 176ms/step - loss: 0.1864 - accuracy: 0.9292 - val_loss: 0.1850 - val_accuracy: 0.9316\n",
      "Epoch 99/100\n",
      "64/64 [==============================] - 11s 179ms/step - loss: 0.1689 - accuracy: 0.9434 - val_loss: 0.1658 - val_accuracy: 0.9434\n",
      "Epoch 100/100\n",
      "64/64 [==============================] - 11s 178ms/step - loss: 0.1626 - accuracy: 0.9392 - val_loss: 0.1972 - val_accuracy: 0.9346\n"
     ]
    }
   ],
   "source": [
    "model.compile(optimizer='Adam',loss='categorical_crossentropy',metrics=['accuracy'])\n",
    "hist = model.fit(x_train, y_train, epochs=100, validation_split=0.2, batch_size=64,verbose=1,shuffle=True)"
   ]
  },
  {
   "cell_type": "markdown",
   "id": "7ce9432f",
   "metadata": {},
   "source": [
    "## plotting the training and validation accuracy"
   ]
  },
  {
   "cell_type": "code",
   "execution_count": 20,
   "id": "1580f81e",
   "metadata": {},
   "outputs": [
    {
     "data": {
      "image/png": "[encoded data removed]",
      "text/plain": [
       "<Figure size 960x480 with 1 Axes>"
      ]
     },
     "metadata": {
      "needs_background": "light"
     },
     "output_type": "display_data"
    }
   ],
   "source": [
    "import matplotlib.pyplot as plt\n",
    "from matplotlib.pyplot import figure\n",
    "\n",
    "fig = plt.figure(figsize=(12, 6), dpi=80)\n",
    "plt.plot(hist.history['loss'], color='teal', label='loss')\n",
    "plt.plot(hist.history['val_loss'], color='orange', label='val_loss')\n",
    "fig.suptitle('Loss', fontsize=20)\n",
    "plt.legend(loc=\"upper left\")\n",
    "plt.show()"
   ]
  },
  {
   "cell_type": "markdown",
   "id": "28dfcfe1",
   "metadata": {},
   "source": [
    "We plot the loss of training. We can see that the loss is decreasing with each epoch. We can also see that the validation loss is decreasing with each epoch. This means that the model is not overfitting the training data."
   ]
  },
  {
   "cell_type": "code",
   "execution_count": 21,
   "id": "031481a6",
   "metadata": {},
   "outputs": [
    {
     "data": {
      "image/png": "[encoded data removed]",
      "text/plain": [
       "<Figure size 960x480 with 1 Axes>"
      ]
     },
     "metadata": {
      "needs_background": "light"
     },
     "output_type": "display_data"
    }
   ],
   "source": [
    "fig = plt.figure(figsize=(12, 6), dpi=80)\n",
    "plt.plot(hist.history['accuracy'], color='teal', label='accuracy')\n",
    "plt.plot(hist.history['val_accuracy'], color='orange', label='val_accuracy')\n",
    "fig.suptitle('Accuracy', fontsize=20)\n",
    "plt.legend(loc=\"upper left\")\n",
    "plt.show()"
   ]
  },
  {
   "cell_type": "markdown",
   "id": "aec73db6",
   "metadata": {},
   "source": [
    "We can see that the accuracy is increasing with each epoch."
   ]
  },
  {
   "cell_type": "markdown",
   "id": "8ef132ef",
   "metadata": {},
   "source": [
    "## Evaluating the model"
   ]
  },
  {
   "cell_type": "code",
   "execution_count": 23,
   "id": "40bc2e16",
   "metadata": {},
   "outputs": [
    {
     "name": "stdout",
     "output_type": "stream",
     "text": [
      "40/40 - 1s - loss: 0.1956 - accuracy: 0.9328 - 804ms/epoch - 20ms/step\n",
      "40/40 [==============================] - 1s 19ms/step\n",
      "Test Loss     : 0.1956094652414322\n",
      "Test Accuracy : 0.932812511920929\n"
     ]
    }
   ],
   "source": [
    "loss_and_metrics = model.evaluate(x_test, y_test, verbose=2)\n",
    "y_pred = model.predict(x_test).argmax(axis=1)\n",
    "print(f'Test Loss     : {loss_and_metrics[0]}')\n",
    "print(f'Test Accuracy : {loss_and_metrics[1]}')\n",
    "     "
   ]
  },
  {
   "cell_type": "markdown",
   "id": "a7a655fa",
   "metadata": {},
   "source": [
    "We predict the labels of the validation set. We then calculate the accuracy of the model by comparing the predicted labels with the actual labels and print the accuracy and loss of the model."
   ]
  },
  {
   "cell_type": "code",
   "execution_count": 24,
   "id": "2e7b5e51",
   "metadata": {},
   "outputs": [
    {
     "data": {
      "text/html": [
       "<div>\n",
       "<style scoped>\n",
       "    .dataframe tbody tr th:only-of-type {\n",
       "        vertical-align: middle;\n",
       "    }\n",
       "\n",
       "    .dataframe tbody tr th {\n",
       "        vertical-align: top;\n",
       "    }\n",
       "\n",
       "    .dataframe thead th {\n",
       "        text-align: right;\n",
       "    }\n",
       "</style>\n",
       "<table border=\"1\" class=\"dataframe\">\n",
       "  <thead>\n",
       "    <tr style=\"text-align: right;\">\n",
       "      <th></th>\n",
       "      <th>0</th>\n",
       "      <th>1</th>\n",
       "      <th>2</th>\n",
       "      <th>3</th>\n",
       "    </tr>\n",
       "  </thead>\n",
       "  <tbody>\n",
       "    <tr>\n",
       "      <th>0</th>\n",
       "      <td>164</td>\n",
       "      <td>0</td>\n",
       "      <td>6</td>\n",
       "      <td>8</td>\n",
       "    </tr>\n",
       "    <tr>\n",
       "      <th>1</th>\n",
       "      <td>0</td>\n",
       "      <td>13</td>\n",
       "      <td>0</td>\n",
       "      <td>0</td>\n",
       "    </tr>\n",
       "    <tr>\n",
       "      <th>2</th>\n",
       "      <td>5</td>\n",
       "      <td>0</td>\n",
       "      <td>626</td>\n",
       "      <td>26</td>\n",
       "    </tr>\n",
       "    <tr>\n",
       "      <th>3</th>\n",
       "      <td>5</td>\n",
       "      <td>2</td>\n",
       "      <td>34</td>\n",
       "      <td>391</td>\n",
       "    </tr>\n",
       "  </tbody>\n",
       "</table>\n",
       "</div>"
      ],
      "text/plain": [
       "     0   1    2    3\n",
       "0  164   0    6    8\n",
       "1    0  13    0    0\n",
       "2    5   0  626   26\n",
       "3    5   2   34  391"
      ]
     },
     "execution_count": 24,
     "metadata": {},
     "output_type": "execute_result"
    }
   ],
   "source": [
    "from sklearn import metrics\n",
    "\n",
    "df = pd.DataFrame(\n",
    "  data = metrics.confusion_matrix(np.argmax(y_test, axis=1), y_pred),\n",
    "  columns = ['0', '1', '2', '3'],\n",
    "  index = ['0', '1', '2', '3']\n",
    ")\n",
    "df"
   ]
  },
  {
   "cell_type": "code",
   "execution_count": 25,
   "id": "086d4698",
   "metadata": {},
   "outputs": [
    {
     "data": {
      "text/plain": [
       "<AxesSubplot:>"
      ]
     },
     "execution_count": 25,
     "metadata": {},
     "output_type": "execute_result"
    },
    {
     "data": {
      "image/png": "[encoded data removed]",
      "text/plain": [
       "<Figure size 432x288 with 2 Axes>"
      ]
     },
     "metadata": {
      "needs_background": "light"
     },
     "output_type": "display_data"
    }
   ],
   "source": [
    "import seaborn as sns\n",
    "\n",
    "sns.heatmap(df, cmap=\"Reds\", annot=True, fmt='.0f')"
   ]
  },
  {
   "cell_type": "markdown",
   "id": "bd6a95d8",
   "metadata": {},
   "source": [
    "The confusion matrix is a table that is often used to describe the performance of a classification model on a set of test data for which the true values are known. We can see from the confusion matrix that the model is performing well."
   ]
  },
  {
   "cell_type": "code",
   "execution_count": null,
   "id": "525bf406",
   "metadata": {},
   "outputs": [],
   "source": []
  }
 ],
 "metadata": {
  "kernelspec": {
   "display_name": "Python 3 (ipykernel)",
   "language": "python",
   "name": "python3"
  },
  "language_info": {
   "codemirror_mode": {
    "name": "ipython",
    "version": 3
   },
   "file_extension": ".py",
   "mimetype": "text/x-python",
   "name": "python",
   "nbconvert_exporter": "python",
   "pygments_lexer": "ipython3",
   "version": "3.9.7"
  }
 },
 "nbformat": 4,
 "nbformat_minor": 5
}
